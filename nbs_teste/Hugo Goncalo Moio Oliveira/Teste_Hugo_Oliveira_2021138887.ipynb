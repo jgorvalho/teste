{
 "cells": [
  {
   "cell_type": "markdown",
   "id": "17ebf96f",
   "metadata": {},
   "source": [
    "# Teste"
   ]
  },
  {
   "cell_type": "markdown",
   "id": "31e5baa2",
   "metadata": {},
   "source": [
    "- Nome: Hugo Oliveira\n",
    "- Numero:202113687"
   ]
  },
  {
   "cell_type": "code",
   "execution_count": 101,
   "id": "02728168",
   "metadata": {},
   "outputs": [],
   "source": [
    "import pandas as pd\n",
    "import matplotlib.pyplot as plt"
   ]
  },
  {
   "cell_type": "code",
   "execution_count": 102,
   "id": "a5884c29",
   "metadata": {},
   "outputs": [
    {
     "data": {
      "text/html": [
       "<div>\n",
       "<style scoped>\n",
       "    .dataframe tbody tr th:only-of-type {\n",
       "        vertical-align: middle;\n",
       "    }\n",
       "\n",
       "    .dataframe tbody tr th {\n",
       "        vertical-align: top;\n",
       "    }\n",
       "\n",
       "    .dataframe thead th {\n",
       "        text-align: right;\n",
       "    }\n",
       "</style>\n",
       "<table border=\"1\" class=\"dataframe\">\n",
       "  <thead>\n",
       "    <tr style=\"text-align: right;\">\n",
       "      <th></th>\n",
       "      <th>measurement_time</th>\n",
       "      <th>gadget_id</th>\n",
       "      <th>vibration_x</th>\n",
       "      <th>vibration_y</th>\n",
       "      <th>pressure</th>\n",
       "      <th>temperature</th>\n",
       "      <th>Unnamed: 10</th>\n",
       "      <th>Unnamed: 11</th>\n",
       "    </tr>\n",
       "  </thead>\n",
       "  <tbody>\n",
       "    <tr>\n",
       "      <th>0</th>\n",
       "      <td>2020-07-15 00:00:00.000</td>\n",
       "      <td>1</td>\n",
       "      <td>3</td>\n",
       "      <td>7</td>\n",
       "      <td>16.0</td>\n",
       "      <td>44.114437</td>\n",
       "      <td>NaN</td>\n",
       "      <td>NaN</td>\n",
       "    </tr>\n",
       "    <tr>\n",
       "      <th>1</th>\n",
       "      <td>2020-07-15 01:00:00.000</td>\n",
       "      <td>1</td>\n",
       "      <td>8</td>\n",
       "      <td>3</td>\n",
       "      <td>12.0</td>\n",
       "      <td>34.395177</td>\n",
       "      <td>NaN</td>\n",
       "      <td>NaN</td>\n",
       "    </tr>\n",
       "    <tr>\n",
       "      <th>2</th>\n",
       "      <td>2020-07-15 01:59:59.990</td>\n",
       "      <td>1</td>\n",
       "      <td>10</td>\n",
       "      <td>8</td>\n",
       "      <td>20.0</td>\n",
       "      <td>38.280705</td>\n",
       "      <td>NaN</td>\n",
       "      <td>NaN</td>\n",
       "    </tr>\n",
       "  </tbody>\n",
       "</table>\n",
       "</div>"
      ],
      "text/plain": [
       "          measurement_time  gadget_id  vibration_x  vibration_y  pressure  \\\n",
       "0  2020-07-15 00:00:00.000          1            3            7      16.0   \n",
       "1  2020-07-15 01:00:00.000          1            8            3      12.0   \n",
       "2  2020-07-15 01:59:59.990          1           10            8      20.0   \n",
       "\n",
       "   temperature  Unnamed: 10  Unnamed: 11  \n",
       "0    44.114437          NaN          NaN  \n",
       "1    34.395177          NaN          NaN  \n",
       "2    38.280705          NaN          NaN  "
      ]
     },
     "execution_count": 102,
     "metadata": {},
     "output_type": "execute_result"
    }
   ],
   "source": [
    "df_medidas = pd.read_csv(\"measurements.csv\")\n",
    "df_medidas.head(3)"
   ]
  },
  {
   "cell_type": "code",
   "execution_count": 103,
   "id": "54a0ed31",
   "metadata": {},
   "outputs": [
    {
     "data": {
      "text/plain": [
       "measurement_time     object\n",
       "gadget_id             int64\n",
       "vibration_x           int64\n",
       "vibration_y           int64\n",
       "pressure            float64\n",
       "temperature         float64\n",
       "Unnamed: 10         float64\n",
       "Unnamed: 11         float64\n",
       "dtype: object"
      ]
     },
     "execution_count": 103,
     "metadata": {},
     "output_type": "execute_result"
    }
   ],
   "source": [
    "df_medidas.dtypes"
   ]
  },
  {
   "cell_type": "markdown",
   "id": "8060f3d8",
   "metadata": {},
   "source": [
    "Q1 - Efectuar o parsing do campo measurement_time para datetime\n",
    "[3 valores]"
   ]
  },
  {
   "cell_type": "code",
   "execution_count": 104,
   "id": "34c8821b",
   "metadata": {},
   "outputs": [
    {
     "data": {
      "text/html": [
       "<div>\n",
       "<style scoped>\n",
       "    .dataframe tbody tr th:only-of-type {\n",
       "        vertical-align: middle;\n",
       "    }\n",
       "\n",
       "    .dataframe tbody tr th {\n",
       "        vertical-align: top;\n",
       "    }\n",
       "\n",
       "    .dataframe thead th {\n",
       "        text-align: right;\n",
       "    }\n",
       "</style>\n",
       "<table border=\"1\" class=\"dataframe\">\n",
       "  <thead>\n",
       "    <tr style=\"text-align: right;\">\n",
       "      <th></th>\n",
       "      <th>measurement_time</th>\n",
       "      <th>gadget_id</th>\n",
       "      <th>vibration_x</th>\n",
       "      <th>vibration_y</th>\n",
       "      <th>pressure</th>\n",
       "      <th>temperature</th>\n",
       "      <th>Unnamed: 10</th>\n",
       "      <th>Unnamed: 11</th>\n",
       "    </tr>\n",
       "  </thead>\n",
       "  <tbody>\n",
       "    <tr>\n",
       "      <th>0</th>\n",
       "      <td>2020-07-15 00:00:00.000</td>\n",
       "      <td>1</td>\n",
       "      <td>3</td>\n",
       "      <td>7</td>\n",
       "      <td>16.0</td>\n",
       "      <td>44.114437</td>\n",
       "      <td>NaN</td>\n",
       "      <td>NaN</td>\n",
       "    </tr>\n",
       "    <tr>\n",
       "      <th>1</th>\n",
       "      <td>2020-07-15 01:00:00.000</td>\n",
       "      <td>1</td>\n",
       "      <td>8</td>\n",
       "      <td>3</td>\n",
       "      <td>12.0</td>\n",
       "      <td>34.395177</td>\n",
       "      <td>NaN</td>\n",
       "      <td>NaN</td>\n",
       "    </tr>\n",
       "    <tr>\n",
       "      <th>2</th>\n",
       "      <td>2020-07-15 01:59:59.990</td>\n",
       "      <td>1</td>\n",
       "      <td>10</td>\n",
       "      <td>8</td>\n",
       "      <td>20.0</td>\n",
       "      <td>38.280705</td>\n",
       "      <td>NaN</td>\n",
       "      <td>NaN</td>\n",
       "    </tr>\n",
       "  </tbody>\n",
       "</table>\n",
       "</div>"
      ],
      "text/plain": [
       "         measurement_time  gadget_id  vibration_x  vibration_y  pressure  \\\n",
       "0 2020-07-15 00:00:00.000          1            3            7      16.0   \n",
       "1 2020-07-15 01:00:00.000          1            8            3      12.0   \n",
       "2 2020-07-15 01:59:59.990          1           10            8      20.0   \n",
       "\n",
       "   temperature  Unnamed: 10  Unnamed: 11  \n",
       "0    44.114437          NaN          NaN  \n",
       "1    34.395177          NaN          NaN  \n",
       "2    38.280705          NaN          NaN  "
      ]
     },
     "execution_count": 104,
     "metadata": {},
     "output_type": "execute_result"
    }
   ],
   "source": [
    "df_medidas = pd.read_csv(\"measurements.csv\", parse_dates=[\"measurement_time\"])\n",
    "df_medidas.head(3)"
   ]
  },
  {
   "cell_type": "code",
   "execution_count": 105,
   "id": "973df439",
   "metadata": {},
   "outputs": [
    {
     "data": {
      "text/plain": [
       "measurement_time    datetime64[ns]\n",
       "gadget_id                    int64\n",
       "vibration_x                  int64\n",
       "vibration_y                  int64\n",
       "pressure                   float64\n",
       "temperature                float64\n",
       "Unnamed: 10                float64\n",
       "Unnamed: 11                float64\n",
       "dtype: object"
      ]
     },
     "execution_count": 105,
     "metadata": {},
     "output_type": "execute_result"
    }
   ],
   "source": [
    "df_medidas.dtypes"
   ]
  },
  {
   "cell_type": "markdown",
   "id": "63fbbf8a",
   "metadata": {},
   "source": [
    "Q2 - Retirar definitivamente (drop) os campos unnamed* do dataframe\n",
    "[2 valores]"
   ]
  },
  {
   "cell_type": "code",
   "execution_count": 106,
   "id": "ee3764d9",
   "metadata": {},
   "outputs": [
    {
     "data": {
      "text/html": [
       "<div>\n",
       "<style scoped>\n",
       "    .dataframe tbody tr th:only-of-type {\n",
       "        vertical-align: middle;\n",
       "    }\n",
       "\n",
       "    .dataframe tbody tr th {\n",
       "        vertical-align: top;\n",
       "    }\n",
       "\n",
       "    .dataframe thead th {\n",
       "        text-align: right;\n",
       "    }\n",
       "</style>\n",
       "<table border=\"1\" class=\"dataframe\">\n",
       "  <thead>\n",
       "    <tr style=\"text-align: right;\">\n",
       "      <th></th>\n",
       "      <th>measurement_time</th>\n",
       "      <th>gadget_id</th>\n",
       "      <th>vibration_x</th>\n",
       "      <th>vibration_y</th>\n",
       "      <th>pressure</th>\n",
       "      <th>temperature</th>\n",
       "    </tr>\n",
       "  </thead>\n",
       "  <tbody>\n",
       "    <tr>\n",
       "      <th>0</th>\n",
       "      <td>2020-07-15 00:00:00.000</td>\n",
       "      <td>1</td>\n",
       "      <td>3</td>\n",
       "      <td>7</td>\n",
       "      <td>16.0</td>\n",
       "      <td>44.114437</td>\n",
       "    </tr>\n",
       "    <tr>\n",
       "      <th>1</th>\n",
       "      <td>2020-07-15 01:00:00.000</td>\n",
       "      <td>1</td>\n",
       "      <td>8</td>\n",
       "      <td>3</td>\n",
       "      <td>12.0</td>\n",
       "      <td>34.395177</td>\n",
       "    </tr>\n",
       "    <tr>\n",
       "      <th>2</th>\n",
       "      <td>2020-07-15 01:59:59.990</td>\n",
       "      <td>1</td>\n",
       "      <td>10</td>\n",
       "      <td>8</td>\n",
       "      <td>20.0</td>\n",
       "      <td>38.280705</td>\n",
       "    </tr>\n",
       "  </tbody>\n",
       "</table>\n",
       "</div>"
      ],
      "text/plain": [
       "         measurement_time  gadget_id  vibration_x  vibration_y  pressure  \\\n",
       "0 2020-07-15 00:00:00.000          1            3            7      16.0   \n",
       "1 2020-07-15 01:00:00.000          1            8            3      12.0   \n",
       "2 2020-07-15 01:59:59.990          1           10            8      20.0   \n",
       "\n",
       "   temperature  \n",
       "0    44.114437  \n",
       "1    34.395177  \n",
       "2    38.280705  "
      ]
     },
     "execution_count": 106,
     "metadata": {},
     "output_type": "execute_result"
    }
   ],
   "source": [
    "df_medidas.drop([\"Unnamed: 10\", \"Unnamed: 11\"], axis=1, inplace=True)\n",
    "df_medidas.head(3)"
   ]
  },
  {
   "cell_type": "markdown",
   "id": "56ef70c7",
   "metadata": {},
   "source": [
    "Q3 - Ordenar o dataframe de forma ascendente pelo campo measurement_time [2 valores]"
   ]
  },
  {
   "cell_type": "code",
   "execution_count": 107,
   "id": "5b4a535c",
   "metadata": {},
   "outputs": [
    {
     "data": {
      "text/html": [
       "<div>\n",
       "<style scoped>\n",
       "    .dataframe tbody tr th:only-of-type {\n",
       "        vertical-align: middle;\n",
       "    }\n",
       "\n",
       "    .dataframe tbody tr th {\n",
       "        vertical-align: top;\n",
       "    }\n",
       "\n",
       "    .dataframe thead th {\n",
       "        text-align: right;\n",
       "    }\n",
       "</style>\n",
       "<table border=\"1\" class=\"dataframe\">\n",
       "  <thead>\n",
       "    <tr style=\"text-align: right;\">\n",
       "      <th></th>\n",
       "      <th>measurement_time</th>\n",
       "      <th>gadget_id</th>\n",
       "      <th>vibration_x</th>\n",
       "      <th>vibration_y</th>\n",
       "      <th>pressure</th>\n",
       "      <th>temperature</th>\n",
       "    </tr>\n",
       "  </thead>\n",
       "  <tbody>\n",
       "    <tr>\n",
       "      <th>0</th>\n",
       "      <td>2020-07-15</td>\n",
       "      <td>1</td>\n",
       "      <td>3</td>\n",
       "      <td>7</td>\n",
       "      <td>16.0</td>\n",
       "      <td>44.114437</td>\n",
       "    </tr>\n",
       "    <tr>\n",
       "      <th>336</th>\n",
       "      <td>2020-07-15</td>\n",
       "      <td>3</td>\n",
       "      <td>3</td>\n",
       "      <td>8</td>\n",
       "      <td>11.0</td>\n",
       "      <td>40.427740</td>\n",
       "    </tr>\n",
       "    <tr>\n",
       "      <th>168</th>\n",
       "      <td>2020-07-15</td>\n",
       "      <td>2</td>\n",
       "      <td>3</td>\n",
       "      <td>10</td>\n",
       "      <td>16.0</td>\n",
       "      <td>22.300000</td>\n",
       "    </tr>\n",
       "  </tbody>\n",
       "</table>\n",
       "</div>"
      ],
      "text/plain": [
       "    measurement_time  gadget_id  vibration_x  vibration_y  pressure  \\\n",
       "0         2020-07-15          1            3            7      16.0   \n",
       "336       2020-07-15          3            3            8      11.0   \n",
       "168       2020-07-15          2            3           10      16.0   \n",
       "\n",
       "     temperature  \n",
       "0      44.114437  \n",
       "336    40.427740  \n",
       "168    22.300000  "
      ]
     },
     "execution_count": 107,
     "metadata": {},
     "output_type": "execute_result"
    }
   ],
   "source": [
    "df_medidas = df_medidas.sort_values(by=[\"measurement_time\"], ascending=[True])\n",
    "df_medidas.head(3)"
   ]
  },
  {
   "cell_type": "markdown",
   "id": "a20d4318",
   "metadata": {},
   "source": [
    "Q4 - Escreva a função para obter estas estatísticas descritivas (novo dataframe)\n",
    "[1 valor]"
   ]
  },
  {
   "cell_type": "code",
   "execution_count": 108,
   "id": "8ee97c8f",
   "metadata": {},
   "outputs": [
    {
     "data": {
      "text/html": [
       "<div>\n",
       "<style scoped>\n",
       "    .dataframe tbody tr th:only-of-type {\n",
       "        vertical-align: middle;\n",
       "    }\n",
       "\n",
       "    .dataframe tbody tr th {\n",
       "        vertical-align: top;\n",
       "    }\n",
       "\n",
       "    .dataframe thead th {\n",
       "        text-align: right;\n",
       "    }\n",
       "</style>\n",
       "<table border=\"1\" class=\"dataframe\">\n",
       "  <thead>\n",
       "    <tr style=\"text-align: right;\">\n",
       "      <th></th>\n",
       "      <th>gadget_id</th>\n",
       "      <th>vibration_x</th>\n",
       "      <th>vibration_y</th>\n",
       "      <th>pressure</th>\n",
       "      <th>temperature</th>\n",
       "    </tr>\n",
       "  </thead>\n",
       "  <tbody>\n",
       "    <tr>\n",
       "      <th>count</th>\n",
       "      <td>1008.000000</td>\n",
       "      <td>1008.000000</td>\n",
       "      <td>1008.000000</td>\n",
       "      <td>1008.000000</td>\n",
       "      <td>1008.000000</td>\n",
       "    </tr>\n",
       "    <tr>\n",
       "      <th>mean</th>\n",
       "      <td>3.500000</td>\n",
       "      <td>5.508929</td>\n",
       "      <td>5.439484</td>\n",
       "      <td>14.979167</td>\n",
       "      <td>59.813215</td>\n",
       "    </tr>\n",
       "    <tr>\n",
       "      <th>std</th>\n",
       "      <td>1.708673</td>\n",
       "      <td>2.657533</td>\n",
       "      <td>2.727678</td>\n",
       "      <td>2.516295</td>\n",
       "      <td>22.320829</td>\n",
       "    </tr>\n",
       "    <tr>\n",
       "      <th>min</th>\n",
       "      <td>1.000000</td>\n",
       "      <td>1.000000</td>\n",
       "      <td>0.000000</td>\n",
       "      <td>10.000000</td>\n",
       "      <td>11.463147</td>\n",
       "    </tr>\n",
       "    <tr>\n",
       "      <th>25%</th>\n",
       "      <td>2.000000</td>\n",
       "      <td>3.000000</td>\n",
       "      <td>3.000000</td>\n",
       "      <td>12.500000</td>\n",
       "      <td>37.091100</td>\n",
       "    </tr>\n",
       "    <tr>\n",
       "      <th>50%</th>\n",
       "      <td>3.500000</td>\n",
       "      <td>6.000000</td>\n",
       "      <td>5.000000</td>\n",
       "      <td>15.000000</td>\n",
       "      <td>71.200480</td>\n",
       "    </tr>\n",
       "    <tr>\n",
       "      <th>75%</th>\n",
       "      <td>5.000000</td>\n",
       "      <td>8.000000</td>\n",
       "      <td>7.000000</td>\n",
       "      <td>16.000000</td>\n",
       "      <td>77.606296</td>\n",
       "    </tr>\n",
       "    <tr>\n",
       "      <th>max</th>\n",
       "      <td>6.000000</td>\n",
       "      <td>10.000000</td>\n",
       "      <td>10.000000</td>\n",
       "      <td>20.000000</td>\n",
       "      <td>109.816490</td>\n",
       "    </tr>\n",
       "  </tbody>\n",
       "</table>\n",
       "</div>"
      ],
      "text/plain": [
       "         gadget_id  vibration_x  vibration_y     pressure  temperature\n",
       "count  1008.000000  1008.000000  1008.000000  1008.000000  1008.000000\n",
       "mean      3.500000     5.508929     5.439484    14.979167    59.813215\n",
       "std       1.708673     2.657533     2.727678     2.516295    22.320829\n",
       "min       1.000000     1.000000     0.000000    10.000000    11.463147\n",
       "25%       2.000000     3.000000     3.000000    12.500000    37.091100\n",
       "50%       3.500000     6.000000     5.000000    15.000000    71.200480\n",
       "75%       5.000000     8.000000     7.000000    16.000000    77.606296\n",
       "max       6.000000    10.000000    10.000000    20.000000   109.816490"
      ]
     },
     "execution_count": 108,
     "metadata": {},
     "output_type": "execute_result"
    }
   ],
   "source": [
    "resultado = df_medidas.describe()\n",
    "resultado"
   ]
  },
  {
   "cell_type": "markdown",
   "id": "ad5c8910",
   "metadata": {},
   "source": [
    "Q5 - Qual o valor do desvio padrão (std) do campo temperature ? (guarde-o numa variavel)\n",
    "[1 valor]"
   ]
  },
  {
   "cell_type": "code",
   "execution_count": 109,
   "id": "625c02f1",
   "metadata": {},
   "outputs": [
    {
     "data": {
      "text/plain": [
       "22.32082924549669"
      ]
     },
     "execution_count": 109,
     "metadata": {},
     "output_type": "execute_result"
    }
   ],
   "source": [
    "desviopadrao_temperatura = resultado.loc[\"std\",\"temperature\"]\n",
    "desviopadrao_temperatura"
   ]
  },
  {
   "cell_type": "markdown",
   "id": "492377af",
   "metadata": {},
   "source": [
    "Q6 - Qual o valor da média (mean) do campo pressure ? (guarde-o numa variavel)\n",
    "[1 valor]"
   ]
  },
  {
   "cell_type": "code",
   "execution_count": 110,
   "id": "68168493",
   "metadata": {},
   "outputs": [
    {
     "data": {
      "text/plain": [
       "14.979166666666666"
      ]
     },
     "execution_count": 110,
     "metadata": {},
     "output_type": "execute_result"
    }
   ],
   "source": [
    "media_pressao = resultado.loc[\"mean\",\"pressure\"]\n",
    "media_pressao"
   ]
  },
  {
   "cell_type": "markdown",
   "id": "8e39bebe",
   "metadata": {},
   "source": [
    "Q7 - Falha é um estado quando se verificam as condições (&)"
   ]
  },
  {
   "cell_type": "markdown",
   "id": "1c29802c",
   "metadata": {},
   "source": [
    "- vibration_y >= 7\n",
    "- temperature > que o valor std do campo temperature\n",
    "- pressure > que o valor mean do campo pressure"
   ]
  },
  {
   "cell_type": "code",
   "execution_count": 111,
   "id": "0d035b2f",
   "metadata": {},
   "outputs": [
    {
     "data": {
      "text/html": [
       "<div>\n",
       "<style scoped>\n",
       "    .dataframe tbody tr th:only-of-type {\n",
       "        vertical-align: middle;\n",
       "    }\n",
       "\n",
       "    .dataframe tbody tr th {\n",
       "        vertical-align: top;\n",
       "    }\n",
       "\n",
       "    .dataframe thead th {\n",
       "        text-align: right;\n",
       "    }\n",
       "</style>\n",
       "<table border=\"1\" class=\"dataframe\">\n",
       "  <thead>\n",
       "    <tr style=\"text-align: right;\">\n",
       "      <th></th>\n",
       "      <th>measurement_time</th>\n",
       "      <th>gadget_id</th>\n",
       "      <th>vibration_x</th>\n",
       "      <th>vibration_y</th>\n",
       "      <th>pressure</th>\n",
       "      <th>temperature</th>\n",
       "    </tr>\n",
       "  </thead>\n",
       "  <tbody>\n",
       "    <tr>\n",
       "      <th>0</th>\n",
       "      <td>2020-07-15 00:00:00.000</td>\n",
       "      <td>1</td>\n",
       "      <td>3</td>\n",
       "      <td>7</td>\n",
       "      <td>16.0</td>\n",
       "      <td>44.114437</td>\n",
       "    </tr>\n",
       "    <tr>\n",
       "      <th>337</th>\n",
       "      <td>2020-07-15 01:00:00.000</td>\n",
       "      <td>3</td>\n",
       "      <td>9</td>\n",
       "      <td>9</td>\n",
       "      <td>19.0</td>\n",
       "      <td>39.084426</td>\n",
       "    </tr>\n",
       "    <tr>\n",
       "      <th>2</th>\n",
       "      <td>2020-07-15 01:59:59.990</td>\n",
       "      <td>1</td>\n",
       "      <td>10</td>\n",
       "      <td>8</td>\n",
       "      <td>20.0</td>\n",
       "      <td>38.280705</td>\n",
       "    </tr>\n",
       "    <tr>\n",
       "      <th>676</th>\n",
       "      <td>2020-07-15 03:59:59.980</td>\n",
       "      <td>5</td>\n",
       "      <td>7</td>\n",
       "      <td>9</td>\n",
       "      <td>16.0</td>\n",
       "      <td>72.612199</td>\n",
       "    </tr>\n",
       "    <tr>\n",
       "      <th>4</th>\n",
       "      <td>2020-07-15 03:59:59.980</td>\n",
       "      <td>1</td>\n",
       "      <td>6</td>\n",
       "      <td>9</td>\n",
       "      <td>16.0</td>\n",
       "      <td>39.257268</td>\n",
       "    </tr>\n",
       "    <tr>\n",
       "      <th>677</th>\n",
       "      <td>2020-07-15 04:59:59.975</td>\n",
       "      <td>5</td>\n",
       "      <td>7</td>\n",
       "      <td>9</td>\n",
       "      <td>18.0</td>\n",
       "      <td>77.888118</td>\n",
       "    </tr>\n",
       "    <tr>\n",
       "      <th>845</th>\n",
       "      <td>2020-07-15 04:59:59.975</td>\n",
       "      <td>6</td>\n",
       "      <td>5</td>\n",
       "      <td>7</td>\n",
       "      <td>18.0</td>\n",
       "      <td>70.417148</td>\n",
       "    </tr>\n",
       "    <tr>\n",
       "      <th>509</th>\n",
       "      <td>2020-07-15 04:59:59.975</td>\n",
       "      <td>4</td>\n",
       "      <td>2</td>\n",
       "      <td>9</td>\n",
       "      <td>18.0</td>\n",
       "      <td>77.895717</td>\n",
       "    </tr>\n",
       "    <tr>\n",
       "      <th>175</th>\n",
       "      <td>2020-07-15 06:59:59.965</td>\n",
       "      <td>2</td>\n",
       "      <td>8</td>\n",
       "      <td>9</td>\n",
       "      <td>15.0</td>\n",
       "      <td>35.642136</td>\n",
       "    </tr>\n",
       "    <tr>\n",
       "      <th>512</th>\n",
       "      <td>2020-07-15 07:59:59.960</td>\n",
       "      <td>4</td>\n",
       "      <td>5</td>\n",
       "      <td>10</td>\n",
       "      <td>15.0</td>\n",
       "      <td>76.534372</td>\n",
       "    </tr>\n",
       "  </tbody>\n",
       "</table>\n",
       "</div>"
      ],
      "text/plain": [
       "           measurement_time  gadget_id  vibration_x  vibration_y  pressure  \\\n",
       "0   2020-07-15 00:00:00.000          1            3            7      16.0   \n",
       "337 2020-07-15 01:00:00.000          3            9            9      19.0   \n",
       "2   2020-07-15 01:59:59.990          1           10            8      20.0   \n",
       "676 2020-07-15 03:59:59.980          5            7            9      16.0   \n",
       "4   2020-07-15 03:59:59.980          1            6            9      16.0   \n",
       "677 2020-07-15 04:59:59.975          5            7            9      18.0   \n",
       "845 2020-07-15 04:59:59.975          6            5            7      18.0   \n",
       "509 2020-07-15 04:59:59.975          4            2            9      18.0   \n",
       "175 2020-07-15 06:59:59.965          2            8            9      15.0   \n",
       "512 2020-07-15 07:59:59.960          4            5           10      15.0   \n",
       "\n",
       "     temperature  \n",
       "0      44.114437  \n",
       "337    39.084426  \n",
       "2      38.280705  \n",
       "676    72.612199  \n",
       "4      39.257268  \n",
       "677    77.888118  \n",
       "845    70.417148  \n",
       "509    77.895717  \n",
       "175    35.642136  \n",
       "512    76.534372  "
      ]
     },
     "execution_count": 111,
     "metadata": {},
     "output_type": "execute_result"
    }
   ],
   "source": [
    "condicao = df_medidas[(df_medidas.vibration_y>=7) & (df_medidas.temperature>desviopadrao_temperatura) & (df_medidas.pressure>media_pressao)]\n",
    "condicao.head(10)"
   ]
  },
  {
   "cell_type": "code",
   "execution_count": 112,
   "id": "79449619",
   "metadata": {},
   "outputs": [
    {
     "data": {
      "text/html": [
       "<div>\n",
       "<style scoped>\n",
       "    .dataframe tbody tr th:only-of-type {\n",
       "        vertical-align: middle;\n",
       "    }\n",
       "\n",
       "    .dataframe tbody tr th {\n",
       "        vertical-align: top;\n",
       "    }\n",
       "\n",
       "    .dataframe thead th {\n",
       "        text-align: right;\n",
       "    }\n",
       "</style>\n",
       "<table border=\"1\" class=\"dataframe\">\n",
       "  <thead>\n",
       "    <tr style=\"text-align: right;\">\n",
       "      <th></th>\n",
       "      <th>failure_time</th>\n",
       "      <th>gadget_id</th>\n",
       "    </tr>\n",
       "  </thead>\n",
       "  <tbody>\n",
       "    <tr>\n",
       "      <th>0</th>\n",
       "      <td>2020-07-15 09:56:03.974006640</td>\n",
       "      <td>1</td>\n",
       "    </tr>\n",
       "    <tr>\n",
       "      <th>1</th>\n",
       "      <td>2020-07-15 21:49:25.197701400</td>\n",
       "      <td>1</td>\n",
       "    </tr>\n",
       "    <tr>\n",
       "      <th>2</th>\n",
       "      <td>2020-07-16 00:51:15.832103640</td>\n",
       "      <td>1</td>\n",
       "    </tr>\n",
       "  </tbody>\n",
       "</table>\n",
       "</div>"
      ],
      "text/plain": [
       "                   failure_time  gadget_id\n",
       "0 2020-07-15 09:56:03.974006640          1\n",
       "1 2020-07-15 21:49:25.197701400          1\n",
       "2 2020-07-16 00:51:15.832103640          1"
      ]
     },
     "execution_count": 112,
     "metadata": {},
     "output_type": "execute_result"
    }
   ],
   "source": [
    "df_falhas = pd.read_csv(\"failures.csv\", parse_dates=['failure_time'])\n",
    "df_falhas.head(3)"
   ]
  },
  {
   "cell_type": "code",
   "execution_count": 113,
   "id": "b0c593e7",
   "metadata": {},
   "outputs": [
    {
     "data": {
      "text/html": [
       "<div>\n",
       "<style scoped>\n",
       "    .dataframe tbody tr th:only-of-type {\n",
       "        vertical-align: middle;\n",
       "    }\n",
       "\n",
       "    .dataframe tbody tr th {\n",
       "        vertical-align: top;\n",
       "    }\n",
       "\n",
       "    .dataframe thead th {\n",
       "        text-align: right;\n",
       "    }\n",
       "</style>\n",
       "<table border=\"1\" class=\"dataframe\">\n",
       "  <thead>\n",
       "    <tr style=\"text-align: right;\">\n",
       "      <th></th>\n",
       "      <th>failure_time</th>\n",
       "      <th>gadget_id</th>\n",
       "    </tr>\n",
       "  </thead>\n",
       "  <tbody>\n",
       "    <tr>\n",
       "      <th>52</th>\n",
       "      <td>2020-07-15 05:31:44.776014200</td>\n",
       "      <td>4</td>\n",
       "    </tr>\n",
       "    <tr>\n",
       "      <th>72</th>\n",
       "      <td>2020-07-15 05:48:58.383388460</td>\n",
       "      <td>5</td>\n",
       "    </tr>\n",
       "    <tr>\n",
       "      <th>53</th>\n",
       "      <td>2020-07-15 06:42:44.569051620</td>\n",
       "      <td>4</td>\n",
       "    </tr>\n",
       "    <tr>\n",
       "      <th>14</th>\n",
       "      <td>2020-07-15 07:11:50.319233260</td>\n",
       "      <td>2</td>\n",
       "    </tr>\n",
       "    <tr>\n",
       "      <th>39</th>\n",
       "      <td>2020-07-15 09:33:48.330967860</td>\n",
       "      <td>3</td>\n",
       "    </tr>\n",
       "  </tbody>\n",
       "</table>\n",
       "</div>"
      ],
      "text/plain": [
       "                    failure_time  gadget_id\n",
       "52 2020-07-15 05:31:44.776014200          4\n",
       "72 2020-07-15 05:48:58.383388460          5\n",
       "53 2020-07-15 06:42:44.569051620          4\n",
       "14 2020-07-15 07:11:50.319233260          2\n",
       "39 2020-07-15 09:33:48.330967860          3"
      ]
     },
     "execution_count": 113,
     "metadata": {},
     "output_type": "execute_result"
    }
   ],
   "source": [
    "df_falhas = df_falhas.sort_values(by=['failure_time'], ascending=[True])\n",
    "df_falhas.head()"
   ]
  },
  {
   "cell_type": "markdown",
   "id": "612b9f1e",
   "metadata": {},
   "source": [
    "Q8 - Efectue o agupamento (groupby) pelo campo gadget_id e calcule (cont) a quantidade de ocorrência de cada tipo de gadget\n",
    "[3 valores]"
   ]
  },
  {
   "cell_type": "code",
   "execution_count": 114,
   "id": "a1edb2da",
   "metadata": {},
   "outputs": [
    {
     "data": {
      "text/html": [
       "<div>\n",
       "<style scoped>\n",
       "    .dataframe tbody tr th:only-of-type {\n",
       "        vertical-align: middle;\n",
       "    }\n",
       "\n",
       "    .dataframe tbody tr th {\n",
       "        vertical-align: top;\n",
       "    }\n",
       "\n",
       "    .dataframe thead th {\n",
       "        text-align: right;\n",
       "    }\n",
       "</style>\n",
       "<table border=\"1\" class=\"dataframe\">\n",
       "  <thead>\n",
       "    <tr style=\"text-align: right;\">\n",
       "      <th></th>\n",
       "      <th>failure_time</th>\n",
       "    </tr>\n",
       "    <tr>\n",
       "      <th>gadget_id</th>\n",
       "      <th></th>\n",
       "    </tr>\n",
       "  </thead>\n",
       "  <tbody>\n",
       "    <tr>\n",
       "      <th>1</th>\n",
       "      <td>14</td>\n",
       "    </tr>\n",
       "    <tr>\n",
       "      <th>2</th>\n",
       "      <td>25</td>\n",
       "    </tr>\n",
       "    <tr>\n",
       "      <th>3</th>\n",
       "      <td>13</td>\n",
       "    </tr>\n",
       "    <tr>\n",
       "      <th>4</th>\n",
       "      <td>20</td>\n",
       "    </tr>\n",
       "    <tr>\n",
       "      <th>5</th>\n",
       "      <td>25</td>\n",
       "    </tr>\n",
       "    <tr>\n",
       "      <th>6</th>\n",
       "      <td>8</td>\n",
       "    </tr>\n",
       "  </tbody>\n",
       "</table>\n",
       "</div>"
      ],
      "text/plain": [
       "           failure_time\n",
       "gadget_id              \n",
       "1                    14\n",
       "2                    25\n",
       "3                    13\n",
       "4                    20\n",
       "5                    25\n",
       "6                     8"
      ]
     },
     "execution_count": 114,
     "metadata": {},
     "output_type": "execute_result"
    }
   ],
   "source": [
    "agrupamento = df_falhas.groupby([\"gadget_id\"])\n",
    "agrupamento_final = agrupamento.count()\n",
    "agrupamento_final"
   ]
  },
  {
   "cell_type": "markdown",
   "id": "a0abf0a2",
   "metadata": {},
   "source": [
    "Q9 - Crie uma gráfico com os dados de objecto (groupby): barras, sem legenda e um título\n",
    "[3 valores]"
   ]
  },
  {
   "cell_type": "code",
   "execution_count": 115,
   "id": "e80e4f97",
   "metadata": {
    "scrolled": true
   },
   "outputs": [
    {
     "data": {
      "text/plain": [
       "<AxesSubplot:title={'center':'Numero De Falhas'}, xlabel='gadget_id'>"
      ]
     },
     "execution_count": 115,
     "metadata": {},
     "output_type": "execute_result"
    },
    {
     "data": {
      "image/png": "[encoded data removed]",
      "text/plain": [
       "<Figure size 432x288 with 1 Axes>"
      ]
     },
     "metadata": {
      "needs_background": "light"
     },
     "output_type": "display_data"
    }
   ],
   "source": [
    "agrupamento_final.plot.bar(title=\"Numero De Falhas\", legend=False)"
   ]
  }
 ],
 "metadata": {
  "kernelspec": {
   "display_name": "Python 3 (ipykernel)",
   "language": "python",
   "name": "python3"
  },
  "language_info": {
   "codemirror_mode": {
    "name": "ipython",
    "version": 3
   },
   "file_extension": ".py",
   "mimetype": "text/x-python",
   "name": "python",
   "nbconvert_exporter": "python",
   "pygments_lexer": "ipython3",
   "version": "3.9.7"
  }
 },
 "nbformat": 4,
 "nbformat_minor": 5
}
