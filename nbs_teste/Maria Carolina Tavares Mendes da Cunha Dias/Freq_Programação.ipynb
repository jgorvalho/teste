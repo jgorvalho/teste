{
 "cells": [
  {
   "cell_type": "markdown",
   "id": "03538d61",
   "metadata": {},
   "source": [
    "Nome da aluna(o) [primeiro + último]: Maria Carolina Tavares\n",
    "\n",
    "Número da aluna(o) : 2021143176"
   ]
  },
  {
   "cell_type": "code",
   "execution_count": 1,
   "id": "8b5a9ca4",
   "metadata": {},
   "outputs": [],
   "source": [
    "import pandas as pd\n",
    "import matplotlib.pyplot as plt"
   ]
  },
  {
   "cell_type": "code",
   "execution_count": 3,
   "id": "b33f9073",
   "metadata": {},
   "outputs": [
    {
     "data": {
      "text/html": [
       "<div>\n",
       "<style scoped>\n",
       "    .dataframe tbody tr th:only-of-type {\n",
       "        vertical-align: middle;\n",
       "    }\n",
       "\n",
       "    .dataframe tbody tr th {\n",
       "        vertical-align: top;\n",
       "    }\n",
       "\n",
       "    .dataframe thead th {\n",
       "        text-align: right;\n",
       "    }\n",
       "</style>\n",
       "<table border=\"1\" class=\"dataframe\">\n",
       "  <thead>\n",
       "    <tr style=\"text-align: right;\">\n",
       "      <th></th>\n",
       "      <th>measurement_time</th>\n",
       "      <th>gadget_id</th>\n",
       "      <th>vibration_x</th>\n",
       "      <th>vibration_y</th>\n",
       "      <th>pressure</th>\n",
       "      <th>temperature</th>\n",
       "      <th>Unnamed: 10</th>\n",
       "      <th>Unnamed: 11</th>\n",
       "    </tr>\n",
       "  </thead>\n",
       "  <tbody>\n",
       "    <tr>\n",
       "      <th>0</th>\n",
       "      <td>2020-07-15 00:00:00.000</td>\n",
       "      <td>1</td>\n",
       "      <td>3</td>\n",
       "      <td>7</td>\n",
       "      <td>16.0</td>\n",
       "      <td>44.114437</td>\n",
       "      <td>NaN</td>\n",
       "      <td>NaN</td>\n",
       "    </tr>\n",
       "    <tr>\n",
       "      <th>1</th>\n",
       "      <td>2020-07-15 01:00:00.000</td>\n",
       "      <td>1</td>\n",
       "      <td>8</td>\n",
       "      <td>3</td>\n",
       "      <td>12.0</td>\n",
       "      <td>34.395177</td>\n",
       "      <td>NaN</td>\n",
       "      <td>NaN</td>\n",
       "    </tr>\n",
       "    <tr>\n",
       "      <th>2</th>\n",
       "      <td>2020-07-15 01:59:59.990</td>\n",
       "      <td>1</td>\n",
       "      <td>10</td>\n",
       "      <td>8</td>\n",
       "      <td>20.0</td>\n",
       "      <td>38.280705</td>\n",
       "      <td>NaN</td>\n",
       "      <td>NaN</td>\n",
       "    </tr>\n",
       "  </tbody>\n",
       "</table>\n",
       "</div>"
      ],
      "text/plain": [
       "          measurement_time  gadget_id  vibration_x  vibration_y  pressure  \\\n",
       "0  2020-07-15 00:00:00.000          1            3            7      16.0   \n",
       "1  2020-07-15 01:00:00.000          1            8            3      12.0   \n",
       "2  2020-07-15 01:59:59.990          1           10            8      20.0   \n",
       "\n",
       "   temperature  Unnamed: 10  Unnamed: 11  \n",
       "0    44.114437          NaN          NaN  \n",
       "1    34.395177          NaN          NaN  \n",
       "2    38.280705          NaN          NaN  "
      ]
     },
     "execution_count": 3,
     "metadata": {},
     "output_type": "execute_result"
    }
   ],
   "source": [
    "df_measurements = pd.read_csv(\"measurements.csv\")\n",
    "df_measurements.head(3)"
   ]
  },
  {
   "cell_type": "markdown",
   "id": "25915ecd",
   "metadata": {},
   "source": [
    "Q1 - Efectuar o parsing do campo measurement_time para datetime"
   ]
  },
  {
   "cell_type": "code",
   "execution_count": 4,
   "id": "a3dfbf7a",
   "metadata": {},
   "outputs": [
    {
     "data": {
      "text/html": [
       "<div>\n",
       "<style scoped>\n",
       "    .dataframe tbody tr th:only-of-type {\n",
       "        vertical-align: middle;\n",
       "    }\n",
       "\n",
       "    .dataframe tbody tr th {\n",
       "        vertical-align: top;\n",
       "    }\n",
       "\n",
       "    .dataframe thead th {\n",
       "        text-align: right;\n",
       "    }\n",
       "</style>\n",
       "<table border=\"1\" class=\"dataframe\">\n",
       "  <thead>\n",
       "    <tr style=\"text-align: right;\">\n",
       "      <th></th>\n",
       "      <th>measurement_time</th>\n",
       "      <th>gadget_id</th>\n",
       "      <th>vibration_x</th>\n",
       "      <th>vibration_y</th>\n",
       "      <th>pressure</th>\n",
       "      <th>temperature</th>\n",
       "      <th>Unnamed: 10</th>\n",
       "      <th>Unnamed: 11</th>\n",
       "    </tr>\n",
       "  </thead>\n",
       "  <tbody>\n",
       "    <tr>\n",
       "      <th>0</th>\n",
       "      <td>2020-07-15 00:00:00.000</td>\n",
       "      <td>1</td>\n",
       "      <td>3</td>\n",
       "      <td>7</td>\n",
       "      <td>16.0</td>\n",
       "      <td>44.114437</td>\n",
       "      <td>NaN</td>\n",
       "      <td>NaN</td>\n",
       "    </tr>\n",
       "    <tr>\n",
       "      <th>1</th>\n",
       "      <td>2020-07-15 01:00:00.000</td>\n",
       "      <td>1</td>\n",
       "      <td>8</td>\n",
       "      <td>3</td>\n",
       "      <td>12.0</td>\n",
       "      <td>34.395177</td>\n",
       "      <td>NaN</td>\n",
       "      <td>NaN</td>\n",
       "    </tr>\n",
       "    <tr>\n",
       "      <th>2</th>\n",
       "      <td>2020-07-15 01:59:59.990</td>\n",
       "      <td>1</td>\n",
       "      <td>10</td>\n",
       "      <td>8</td>\n",
       "      <td>20.0</td>\n",
       "      <td>38.280705</td>\n",
       "      <td>NaN</td>\n",
       "      <td>NaN</td>\n",
       "    </tr>\n",
       "  </tbody>\n",
       "</table>\n",
       "</div>"
      ],
      "text/plain": [
       "         measurement_time  gadget_id  vibration_x  vibration_y  pressure  \\\n",
       "0 2020-07-15 00:00:00.000          1            3            7      16.0   \n",
       "1 2020-07-15 01:00:00.000          1            8            3      12.0   \n",
       "2 2020-07-15 01:59:59.990          1           10            8      20.0   \n",
       "\n",
       "   temperature  Unnamed: 10  Unnamed: 11  \n",
       "0    44.114437          NaN          NaN  \n",
       "1    34.395177          NaN          NaN  \n",
       "2    38.280705          NaN          NaN  "
      ]
     },
     "execution_count": 4,
     "metadata": {},
     "output_type": "execute_result"
    }
   ],
   "source": [
    "df_measurements = pd.read_csv(\"measurements.csv\", parse_dates=['measurement_time'])\n",
    "df_measurements.head(3)"
   ]
  },
  {
   "cell_type": "code",
   "execution_count": 5,
   "id": "410f1f52",
   "metadata": {},
   "outputs": [
    {
     "data": {
      "text/plain": [
       "measurement_time    datetime64[ns]\n",
       "gadget_id                    int64\n",
       "vibration_x                  int64\n",
       "vibration_y                  int64\n",
       "pressure                   float64\n",
       "temperature                float64\n",
       "Unnamed: 10                float64\n",
       "Unnamed: 11                float64\n",
       "dtype: object"
      ]
     },
     "execution_count": 5,
     "metadata": {},
     "output_type": "execute_result"
    }
   ],
   "source": [
    "df_measurements.dtypes"
   ]
  },
  {
   "cell_type": "markdown",
   "id": "6a91da06",
   "metadata": {},
   "source": [
    "Q2 - Retirar definitivamente (drop) os campos unnamed* do dataframe"
   ]
  },
  {
   "cell_type": "code",
   "execution_count": 7,
   "id": "bbeb55a6",
   "metadata": {},
   "outputs": [
    {
     "data": {
      "text/html": [
       "<div>\n",
       "<style scoped>\n",
       "    .dataframe tbody tr th:only-of-type {\n",
       "        vertical-align: middle;\n",
       "    }\n",
       "\n",
       "    .dataframe tbody tr th {\n",
       "        vertical-align: top;\n",
       "    }\n",
       "\n",
       "    .dataframe thead th {\n",
       "        text-align: right;\n",
       "    }\n",
       "</style>\n",
       "<table border=\"1\" class=\"dataframe\">\n",
       "  <thead>\n",
       "    <tr style=\"text-align: right;\">\n",
       "      <th></th>\n",
       "      <th>measurement_time</th>\n",
       "      <th>gadget_id</th>\n",
       "      <th>vibration_x</th>\n",
       "      <th>vibration_y</th>\n",
       "      <th>pressure</th>\n",
       "      <th>temperature</th>\n",
       "    </tr>\n",
       "  </thead>\n",
       "  <tbody>\n",
       "    <tr>\n",
       "      <th>0</th>\n",
       "      <td>2020-07-15 00:00:00.000</td>\n",
       "      <td>1</td>\n",
       "      <td>3</td>\n",
       "      <td>7</td>\n",
       "      <td>16.0</td>\n",
       "      <td>44.114437</td>\n",
       "    </tr>\n",
       "    <tr>\n",
       "      <th>1</th>\n",
       "      <td>2020-07-15 01:00:00.000</td>\n",
       "      <td>1</td>\n",
       "      <td>8</td>\n",
       "      <td>3</td>\n",
       "      <td>12.0</td>\n",
       "      <td>34.395177</td>\n",
       "    </tr>\n",
       "    <tr>\n",
       "      <th>2</th>\n",
       "      <td>2020-07-15 01:59:59.990</td>\n",
       "      <td>1</td>\n",
       "      <td>10</td>\n",
       "      <td>8</td>\n",
       "      <td>20.0</td>\n",
       "      <td>38.280705</td>\n",
       "    </tr>\n",
       "  </tbody>\n",
       "</table>\n",
       "</div>"
      ],
      "text/plain": [
       "         measurement_time  gadget_id  vibration_x  vibration_y  pressure  \\\n",
       "0 2020-07-15 00:00:00.000          1            3            7      16.0   \n",
       "1 2020-07-15 01:00:00.000          1            8            3      12.0   \n",
       "2 2020-07-15 01:59:59.990          1           10            8      20.0   \n",
       "\n",
       "   temperature  \n",
       "0    44.114437  \n",
       "1    34.395177  \n",
       "2    38.280705  "
      ]
     },
     "execution_count": 7,
     "metadata": {},
     "output_type": "execute_result"
    }
   ],
   "source": [
    "df_measurements.drop([\"Unnamed: 10\", \"Unnamed: 11\"], axis=1, inplace=True)\n",
    "df_measurements.head(3)"
   ]
  },
  {
   "cell_type": "markdown",
   "id": "c4af3694",
   "metadata": {},
   "source": [
    "Q3 - Ordenar o dataframe de forma ascendente pelo campo measurement_time"
   ]
  },
  {
   "cell_type": "code",
   "execution_count": 9,
   "id": "5225526b",
   "metadata": {},
   "outputs": [
    {
     "data": {
      "text/html": [
       "<div>\n",
       "<style scoped>\n",
       "    .dataframe tbody tr th:only-of-type {\n",
       "        vertical-align: middle;\n",
       "    }\n",
       "\n",
       "    .dataframe tbody tr th {\n",
       "        vertical-align: top;\n",
       "    }\n",
       "\n",
       "    .dataframe thead th {\n",
       "        text-align: right;\n",
       "    }\n",
       "</style>\n",
       "<table border=\"1\" class=\"dataframe\">\n",
       "  <thead>\n",
       "    <tr style=\"text-align: right;\">\n",
       "      <th></th>\n",
       "      <th>measurement_time</th>\n",
       "      <th>gadget_id</th>\n",
       "      <th>vibration_x</th>\n",
       "      <th>vibration_y</th>\n",
       "      <th>pressure</th>\n",
       "      <th>temperature</th>\n",
       "    </tr>\n",
       "  </thead>\n",
       "  <tbody>\n",
       "    <tr>\n",
       "      <th>0</th>\n",
       "      <td>2020-07-15</td>\n",
       "      <td>1</td>\n",
       "      <td>3</td>\n",
       "      <td>7</td>\n",
       "      <td>16.0</td>\n",
       "      <td>44.114437</td>\n",
       "    </tr>\n",
       "    <tr>\n",
       "      <th>336</th>\n",
       "      <td>2020-07-15</td>\n",
       "      <td>3</td>\n",
       "      <td>3</td>\n",
       "      <td>8</td>\n",
       "      <td>11.0</td>\n",
       "      <td>40.427740</td>\n",
       "    </tr>\n",
       "    <tr>\n",
       "      <th>168</th>\n",
       "      <td>2020-07-15</td>\n",
       "      <td>2</td>\n",
       "      <td>3</td>\n",
       "      <td>10</td>\n",
       "      <td>16.0</td>\n",
       "      <td>22.300000</td>\n",
       "    </tr>\n",
       "    <tr>\n",
       "      <th>840</th>\n",
       "      <td>2020-07-15</td>\n",
       "      <td>6</td>\n",
       "      <td>7</td>\n",
       "      <td>6</td>\n",
       "      <td>12.0</td>\n",
       "      <td>75.874521</td>\n",
       "    </tr>\n",
       "    <tr>\n",
       "      <th>672</th>\n",
       "      <td>2020-07-15</td>\n",
       "      <td>5</td>\n",
       "      <td>4</td>\n",
       "      <td>7</td>\n",
       "      <td>12.0</td>\n",
       "      <td>81.125342</td>\n",
       "    </tr>\n",
       "  </tbody>\n",
       "</table>\n",
       "</div>"
      ],
      "text/plain": [
       "    measurement_time  gadget_id  vibration_x  vibration_y  pressure  \\\n",
       "0         2020-07-15          1            3            7      16.0   \n",
       "336       2020-07-15          3            3            8      11.0   \n",
       "168       2020-07-15          2            3           10      16.0   \n",
       "840       2020-07-15          6            7            6      12.0   \n",
       "672       2020-07-15          5            4            7      12.0   \n",
       "\n",
       "     temperature  \n",
       "0      44.114437  \n",
       "336    40.427740  \n",
       "168    22.300000  \n",
       "840    75.874521  \n",
       "672    81.125342  "
      ]
     },
     "execution_count": 9,
     "metadata": {},
     "output_type": "execute_result"
    }
   ],
   "source": [
    "df_measurements = df_measurements.sort_values(by=['measurement_time'], ascending=[True])\n",
    "df_measurements.head(5)"
   ]
  },
  {
   "cell_type": "markdown",
   "id": "6e1f9a4b",
   "metadata": {},
   "source": [
    "Q4 - Escreva a função para obter estas estatísticas descritivas (novo dataframe)"
   ]
  },
  {
   "cell_type": "code",
   "execution_count": 10,
   "id": "de6c6645",
   "metadata": {},
   "outputs": [
    {
     "data": {
      "text/html": [
       "<div>\n",
       "<style scoped>\n",
       "    .dataframe tbody tr th:only-of-type {\n",
       "        vertical-align: middle;\n",
       "    }\n",
       "\n",
       "    .dataframe tbody tr th {\n",
       "        vertical-align: top;\n",
       "    }\n",
       "\n",
       "    .dataframe thead th {\n",
       "        text-align: right;\n",
       "    }\n",
       "</style>\n",
       "<table border=\"1\" class=\"dataframe\">\n",
       "  <thead>\n",
       "    <tr style=\"text-align: right;\">\n",
       "      <th></th>\n",
       "      <th>gadget_id</th>\n",
       "      <th>vibration_x</th>\n",
       "      <th>vibration_y</th>\n",
       "      <th>pressure</th>\n",
       "      <th>temperature</th>\n",
       "    </tr>\n",
       "  </thead>\n",
       "  <tbody>\n",
       "    <tr>\n",
       "      <th>count</th>\n",
       "      <td>1008.000000</td>\n",
       "      <td>1008.000000</td>\n",
       "      <td>1008.000000</td>\n",
       "      <td>1008.000000</td>\n",
       "      <td>1008.000000</td>\n",
       "    </tr>\n",
       "    <tr>\n",
       "      <th>mean</th>\n",
       "      <td>3.500000</td>\n",
       "      <td>5.508929</td>\n",
       "      <td>5.439484</td>\n",
       "      <td>14.979167</td>\n",
       "      <td>59.813215</td>\n",
       "    </tr>\n",
       "    <tr>\n",
       "      <th>std</th>\n",
       "      <td>1.708673</td>\n",
       "      <td>2.657533</td>\n",
       "      <td>2.727678</td>\n",
       "      <td>2.516295</td>\n",
       "      <td>22.320829</td>\n",
       "    </tr>\n",
       "    <tr>\n",
       "      <th>min</th>\n",
       "      <td>1.000000</td>\n",
       "      <td>1.000000</td>\n",
       "      <td>0.000000</td>\n",
       "      <td>10.000000</td>\n",
       "      <td>11.463147</td>\n",
       "    </tr>\n",
       "    <tr>\n",
       "      <th>25%</th>\n",
       "      <td>2.000000</td>\n",
       "      <td>3.000000</td>\n",
       "      <td>3.000000</td>\n",
       "      <td>12.500000</td>\n",
       "      <td>37.091100</td>\n",
       "    </tr>\n",
       "    <tr>\n",
       "      <th>50%</th>\n",
       "      <td>3.500000</td>\n",
       "      <td>6.000000</td>\n",
       "      <td>5.000000</td>\n",
       "      <td>15.000000</td>\n",
       "      <td>71.200480</td>\n",
       "    </tr>\n",
       "    <tr>\n",
       "      <th>75%</th>\n",
       "      <td>5.000000</td>\n",
       "      <td>8.000000</td>\n",
       "      <td>7.000000</td>\n",
       "      <td>16.000000</td>\n",
       "      <td>77.606296</td>\n",
       "    </tr>\n",
       "    <tr>\n",
       "      <th>max</th>\n",
       "      <td>6.000000</td>\n",
       "      <td>10.000000</td>\n",
       "      <td>10.000000</td>\n",
       "      <td>20.000000</td>\n",
       "      <td>109.816490</td>\n",
       "    </tr>\n",
       "  </tbody>\n",
       "</table>\n",
       "</div>"
      ],
      "text/plain": [
       "         gadget_id  vibration_x  vibration_y     pressure  temperature\n",
       "count  1008.000000  1008.000000  1008.000000  1008.000000  1008.000000\n",
       "mean      3.500000     5.508929     5.439484    14.979167    59.813215\n",
       "std       1.708673     2.657533     2.727678     2.516295    22.320829\n",
       "min       1.000000     1.000000     0.000000    10.000000    11.463147\n",
       "25%       2.000000     3.000000     3.000000    12.500000    37.091100\n",
       "50%       3.500000     6.000000     5.000000    15.000000    71.200480\n",
       "75%       5.000000     8.000000     7.000000    16.000000    77.606296\n",
       "max       6.000000    10.000000    10.000000    20.000000   109.816490"
      ]
     },
     "execution_count": 10,
     "metadata": {},
     "output_type": "execute_result"
    }
   ],
   "source": [
    "result=df_measurements.describe()\n",
    "result"
   ]
  },
  {
   "cell_type": "markdown",
   "id": "fce29376",
   "metadata": {},
   "source": [
    "Q5 - Qual o valor do desvio padrão (std) do campo temperature ? (guarde-o numa variavel)"
   ]
  },
  {
   "cell_type": "code",
   "execution_count": 11,
   "id": "c5264f2b",
   "metadata": {},
   "outputs": [
    {
     "data": {
      "text/plain": [
       "22.32082924549669"
      ]
     },
     "execution_count": 11,
     "metadata": {},
     "output_type": "execute_result"
    }
   ],
   "source": [
    "std_temperature=result.loc[\"std\",\"temperature\"]\n",
    "std_temperature"
   ]
  },
  {
   "cell_type": "markdown",
   "id": "fc5049ce",
   "metadata": {},
   "source": [
    "Q6 - Qual o valor da média (mean) do campo temperature(PRESSURE*) ? (guarde-o numa variavel)"
   ]
  },
  {
   "cell_type": "code",
   "execution_count": 12,
   "id": "01d0a2d2",
   "metadata": {},
   "outputs": [
    {
     "data": {
      "text/plain": [
       "14.979166666666666"
      ]
     },
     "execution_count": 12,
     "metadata": {},
     "output_type": "execute_result"
    }
   ],
   "source": [
    "mean_pressure=result.loc[\"mean\",\"pressure\"]\n",
    "mean_pressure"
   ]
  },
  {
   "cell_type": "markdown",
   "id": "4189a4dc",
   "metadata": {},
   "source": [
    "Q7 - Falha é um estado quando se verificam as condições (&)\n",
    "\n",
    "vibration_y >= 7\n",
    "temperature > que o valor std do campo temperature\n",
    "pressure > que o valor mean do campo pressure\n",
    "escreva o código para obtermos esses registos"
   ]
  },
  {
   "cell_type": "code",
   "execution_count": 22,
   "id": "156e8df3",
   "metadata": {},
   "outputs": [
    {
     "data": {
      "text/html": [
       "<div>\n",
       "<style scoped>\n",
       "    .dataframe tbody tr th:only-of-type {\n",
       "        vertical-align: middle;\n",
       "    }\n",
       "\n",
       "    .dataframe tbody tr th {\n",
       "        vertical-align: top;\n",
       "    }\n",
       "\n",
       "    .dataframe thead th {\n",
       "        text-align: right;\n",
       "    }\n",
       "</style>\n",
       "<table border=\"1\" class=\"dataframe\">\n",
       "  <thead>\n",
       "    <tr style=\"text-align: right;\">\n",
       "      <th></th>\n",
       "      <th>measurement_time</th>\n",
       "      <th>gadget_id</th>\n",
       "      <th>vibration_x</th>\n",
       "      <th>vibration_y</th>\n",
       "      <th>pressure</th>\n",
       "      <th>temperature</th>\n",
       "    </tr>\n",
       "  </thead>\n",
       "  <tbody>\n",
       "    <tr>\n",
       "      <th>0</th>\n",
       "      <td>2020-07-15 00:00:00.000</td>\n",
       "      <td>1</td>\n",
       "      <td>3</td>\n",
       "      <td>7</td>\n",
       "      <td>16.0</td>\n",
       "      <td>44.114437</td>\n",
       "    </tr>\n",
       "    <tr>\n",
       "      <th>337</th>\n",
       "      <td>2020-07-15 01:00:00.000</td>\n",
       "      <td>3</td>\n",
       "      <td>9</td>\n",
       "      <td>9</td>\n",
       "      <td>19.0</td>\n",
       "      <td>39.084426</td>\n",
       "    </tr>\n",
       "    <tr>\n",
       "      <th>2</th>\n",
       "      <td>2020-07-15 01:59:59.990</td>\n",
       "      <td>1</td>\n",
       "      <td>10</td>\n",
       "      <td>8</td>\n",
       "      <td>20.0</td>\n",
       "      <td>38.280705</td>\n",
       "    </tr>\n",
       "    <tr>\n",
       "      <th>676</th>\n",
       "      <td>2020-07-15 03:59:59.980</td>\n",
       "      <td>5</td>\n",
       "      <td>7</td>\n",
       "      <td>9</td>\n",
       "      <td>16.0</td>\n",
       "      <td>72.612199</td>\n",
       "    </tr>\n",
       "    <tr>\n",
       "      <th>4</th>\n",
       "      <td>2020-07-15 03:59:59.980</td>\n",
       "      <td>1</td>\n",
       "      <td>6</td>\n",
       "      <td>9</td>\n",
       "      <td>16.0</td>\n",
       "      <td>39.257268</td>\n",
       "    </tr>\n",
       "  </tbody>\n",
       "</table>\n",
       "</div>"
      ],
      "text/plain": [
       "           measurement_time  gadget_id  vibration_x  vibration_y  pressure  \\\n",
       "0   2020-07-15 00:00:00.000          1            3            7      16.0   \n",
       "337 2020-07-15 01:00:00.000          3            9            9      19.0   \n",
       "2   2020-07-15 01:59:59.990          1           10            8      20.0   \n",
       "676 2020-07-15 03:59:59.980          5            7            9      16.0   \n",
       "4   2020-07-15 03:59:59.980          1            6            9      16.0   \n",
       "\n",
       "     temperature  \n",
       "0      44.114437  \n",
       "337    39.084426  \n",
       "2      38.280705  \n",
       "676    72.612199  \n",
       "4      39.257268  "
      ]
     },
     "execution_count": 22,
     "metadata": {},
     "output_type": "execute_result"
    }
   ],
   "source": [
    "result1 = df_measurements[(df_measurements.vibration_y>=7) & (df_measurements.temperature>std_temperature) & (df_measurements.pressure>mean_pressure)]\n",
    "result1.head(5)"
   ]
  },
  {
   "cell_type": "code",
   "execution_count": 19,
   "id": "65023abc",
   "metadata": {},
   "outputs": [
    {
     "data": {
      "text/html": [
       "<div>\n",
       "<style scoped>\n",
       "    .dataframe tbody tr th:only-of-type {\n",
       "        vertical-align: middle;\n",
       "    }\n",
       "\n",
       "    .dataframe tbody tr th {\n",
       "        vertical-align: top;\n",
       "    }\n",
       "\n",
       "    .dataframe thead th {\n",
       "        text-align: right;\n",
       "    }\n",
       "</style>\n",
       "<table border=\"1\" class=\"dataframe\">\n",
       "  <thead>\n",
       "    <tr style=\"text-align: right;\">\n",
       "      <th></th>\n",
       "      <th>failure_time</th>\n",
       "      <th>gadget_id</th>\n",
       "    </tr>\n",
       "  </thead>\n",
       "  <tbody>\n",
       "    <tr>\n",
       "      <th>0</th>\n",
       "      <td>2020-07-15 09:56:03.974006640</td>\n",
       "      <td>1</td>\n",
       "    </tr>\n",
       "    <tr>\n",
       "      <th>1</th>\n",
       "      <td>2020-07-15 21:49:25.197701400</td>\n",
       "      <td>1</td>\n",
       "    </tr>\n",
       "    <tr>\n",
       "      <th>2</th>\n",
       "      <td>2020-07-16 00:51:15.832103640</td>\n",
       "      <td>1</td>\n",
       "    </tr>\n",
       "    <tr>\n",
       "      <th>3</th>\n",
       "      <td>2020-07-16 01:11:46.349668720</td>\n",
       "      <td>1</td>\n",
       "    </tr>\n",
       "    <tr>\n",
       "      <th>4</th>\n",
       "      <td>2020-07-16 02:22:18.964504160</td>\n",
       "      <td>1</td>\n",
       "    </tr>\n",
       "  </tbody>\n",
       "</table>\n",
       "</div>"
      ],
      "text/plain": [
       "                   failure_time  gadget_id\n",
       "0 2020-07-15 09:56:03.974006640          1\n",
       "1 2020-07-15 21:49:25.197701400          1\n",
       "2 2020-07-16 00:51:15.832103640          1\n",
       "3 2020-07-16 01:11:46.349668720          1\n",
       "4 2020-07-16 02:22:18.964504160          1"
      ]
     },
     "execution_count": 19,
     "metadata": {},
     "output_type": "execute_result"
    }
   ],
   "source": [
    "df_failures = pd.read_csv(\"failures.csv\", parse_dates=['failure_time'])\n",
    "df_failures.head(5)"
   ]
  },
  {
   "cell_type": "code",
   "execution_count": 18,
   "id": "e5d7226a",
   "metadata": {},
   "outputs": [
    {
     "data": {
      "text/html": [
       "<div>\n",
       "<style scoped>\n",
       "    .dataframe tbody tr th:only-of-type {\n",
       "        vertical-align: middle;\n",
       "    }\n",
       "\n",
       "    .dataframe tbody tr th {\n",
       "        vertical-align: top;\n",
       "    }\n",
       "\n",
       "    .dataframe thead th {\n",
       "        text-align: right;\n",
       "    }\n",
       "</style>\n",
       "<table border=\"1\" class=\"dataframe\">\n",
       "  <thead>\n",
       "    <tr style=\"text-align: right;\">\n",
       "      <th></th>\n",
       "      <th>failure_time</th>\n",
       "      <th>gadget_id</th>\n",
       "    </tr>\n",
       "  </thead>\n",
       "  <tbody>\n",
       "    <tr>\n",
       "      <th>52</th>\n",
       "      <td>2020-07-15 05:31:44.776014200</td>\n",
       "      <td>4</td>\n",
       "    </tr>\n",
       "    <tr>\n",
       "      <th>72</th>\n",
       "      <td>2020-07-15 05:48:58.383388460</td>\n",
       "      <td>5</td>\n",
       "    </tr>\n",
       "    <tr>\n",
       "      <th>53</th>\n",
       "      <td>2020-07-15 06:42:44.569051620</td>\n",
       "      <td>4</td>\n",
       "    </tr>\n",
       "    <tr>\n",
       "      <th>14</th>\n",
       "      <td>2020-07-15 07:11:50.319233260</td>\n",
       "      <td>2</td>\n",
       "    </tr>\n",
       "    <tr>\n",
       "      <th>39</th>\n",
       "      <td>2020-07-15 09:33:48.330967860</td>\n",
       "      <td>3</td>\n",
       "    </tr>\n",
       "  </tbody>\n",
       "</table>\n",
       "</div>"
      ],
      "text/plain": [
       "                    failure_time  gadget_id\n",
       "52 2020-07-15 05:31:44.776014200          4\n",
       "72 2020-07-15 05:48:58.383388460          5\n",
       "53 2020-07-15 06:42:44.569051620          4\n",
       "14 2020-07-15 07:11:50.319233260          2\n",
       "39 2020-07-15 09:33:48.330967860          3"
      ]
     },
     "execution_count": 18,
     "metadata": {},
     "output_type": "execute_result"
    }
   ],
   "source": [
    "df_failures = df_failures.sort_values(by=['failure_time'], ascending=[True])\n",
    "df_failures.head()"
   ]
  },
  {
   "cell_type": "markdown",
   "id": "b89d1cad",
   "metadata": {},
   "source": [
    "Q8 - Efectue o agupamento (groupby) pelo campo gadget_id e calcule (cont) a quantidade de ocorrência de cada tipo de gadget"
   ]
  },
  {
   "cell_type": "code",
   "execution_count": 20,
   "id": "7b207897",
   "metadata": {},
   "outputs": [
    {
     "data": {
      "text/html": [
       "<div>\n",
       "<style scoped>\n",
       "    .dataframe tbody tr th:only-of-type {\n",
       "        vertical-align: middle;\n",
       "    }\n",
       "\n",
       "    .dataframe tbody tr th {\n",
       "        vertical-align: top;\n",
       "    }\n",
       "\n",
       "    .dataframe thead th {\n",
       "        text-align: right;\n",
       "    }\n",
       "</style>\n",
       "<table border=\"1\" class=\"dataframe\">\n",
       "  <thead>\n",
       "    <tr style=\"text-align: right;\">\n",
       "      <th></th>\n",
       "      <th>failure_time</th>\n",
       "    </tr>\n",
       "    <tr>\n",
       "      <th>gadget_id</th>\n",
       "      <th></th>\n",
       "    </tr>\n",
       "  </thead>\n",
       "  <tbody>\n",
       "    <tr>\n",
       "      <th>1</th>\n",
       "      <td>14</td>\n",
       "    </tr>\n",
       "    <tr>\n",
       "      <th>2</th>\n",
       "      <td>25</td>\n",
       "    </tr>\n",
       "    <tr>\n",
       "      <th>3</th>\n",
       "      <td>13</td>\n",
       "    </tr>\n",
       "    <tr>\n",
       "      <th>4</th>\n",
       "      <td>20</td>\n",
       "    </tr>\n",
       "    <tr>\n",
       "      <th>5</th>\n",
       "      <td>25</td>\n",
       "    </tr>\n",
       "    <tr>\n",
       "      <th>6</th>\n",
       "      <td>8</td>\n",
       "    </tr>\n",
       "  </tbody>\n",
       "</table>\n",
       "</div>"
      ],
      "text/plain": [
       "           failure_time\n",
       "gadget_id              \n",
       "1                    14\n",
       "2                    25\n",
       "3                    13\n",
       "4                    20\n",
       "5                    25\n",
       "6                     8"
      ]
     },
     "execution_count": 20,
     "metadata": {},
     "output_type": "execute_result"
    }
   ],
   "source": [
    "result2=df_failures.groupby([\"gadget_id\"]).count()\n",
    "result2"
   ]
  },
  {
   "cell_type": "markdown",
   "id": "bd871ce9",
   "metadata": {},
   "source": [
    "Q9 - Crie uma gráfico com os dados de objecto (groupby): barras, sem legenda e um título"
   ]
  },
  {
   "cell_type": "code",
   "execution_count": 21,
   "id": "38de6e52",
   "metadata": {},
   "outputs": [
    {
     "data": {
      "text/plain": [
       "<AxesSubplot:title={'center':'Failures'}, xlabel='gadget_id'>"
      ]
     },
     "execution_count": 21,
     "metadata": {},
     "output_type": "execute_result"
    },
    {
     "data": {
      "image/png": "[encoded data removed]",
      "text/plain": [
       "<Figure size 432x288 with 1 Axes>"
      ]
     },
     "metadata": {
      "needs_background": "light"
     },
     "output_type": "display_data"
    }
   ],
   "source": [
    "result2.plot.bar(title=\"Failures\", legend=False)"
   ]
  }
 ],
 "metadata": {
  "kernelspec": {
   "display_name": "Python 3 (ipykernel)",
   "language": "python",
   "name": "python3"
  },
  "language_info": {
   "codemirror_mode": {
    "name": "ipython",
    "version": 3
   },
   "file_extension": ".py",
   "mimetype": "text/x-python",
   "name": "python",
   "nbconvert_exporter": "python",
   "pygments_lexer": "ipython3",
   "version": "3.9.7"
  }
 },
 "nbformat": 4,
 "nbformat_minor": 5
}
